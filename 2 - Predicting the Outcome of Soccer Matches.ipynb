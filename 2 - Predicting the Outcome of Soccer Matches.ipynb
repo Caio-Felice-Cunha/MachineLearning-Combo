{
 "cells": [
  {
   "cell_type": "markdown",
   "metadata": {},
   "source": [
    "# <font color='blue'>Machine Learning with PySpark - Predicting the Outcome of Soccer Matches</font>"
   ]
  },
  {
   "cell_type": "markdown",
   "metadata": {},
   "source": [
    "## <font color='blue'>Multiclass Classification</font>"
   ]
  },
  {
   "cell_type": "markdown",
   "metadata": {},
   "source": [
    "We will use Multiclass Classification with Decision Trees to build a model capable of predicting the outcome of a soccer match with 3 possible outcomes: victory, defeat or draw."
   ]
  },
  {
   "cell_type": "code",
   "execution_count": 1,
   "metadata": {},
   "outputs": [],
   "source": [
    "# Import findspark and initialize\n",
    "import findspark\n",
    "findspark.init()"
   ]
  },
  {
   "cell_type": "code",
   "execution_count": 2,
   "metadata": {},
   "outputs": [],
   "source": [
    "# Imports \n",
    "import pyspark\n",
    "from pyspark import SparkContext\n",
    "from pyspark.sql import SparkSession\n",
    "from pyspark.sql import Row\n",
    "from pyspark.ml.feature import StringIndexer\n",
    "from pyspark.ml.linalg import Vectors\n",
    "from pyspark.ml.classification import DecisionTreeClassifier\n",
    "from pyspark.ml.evaluation import MulticlassClassificationEvaluator"
   ]
  },
  {
   "cell_type": "markdown",
   "metadata": {},
   "source": [
    "## Loading the Data"
   ]
  },
  {
   "cell_type": "code",
   "execution_count": 3,
   "metadata": {},
   "outputs": [],
   "source": [
    "# Creating the Spark Context\n",
    "sc = SparkContext(appName = \"Soccer-Outcome\")"
   ]
  },
  {
   "cell_type": "code",
   "execution_count": 4,
   "metadata": {},
   "outputs": [],
   "source": [
    "sc.setLogLevel(\"ERROR\")"
   ]
  },
  {
   "cell_type": "code",
   "execution_count": 5,
   "metadata": {},
   "outputs": [],
   "source": [
    "# Spark Session - used when working with Dataframes in Spark\n",
    "spSession = SparkSession.builder.master(\"local\").getOrCreate()"
   ]
  },
  {
   "cell_type": "code",
   "execution_count": 6,
   "metadata": {},
   "outputs": [],
   "source": [
    "# Loading the data and generating an RDD\n",
    "data_soccer_team = sc.textFile(\"data/dataset2.csv\")"
   ]
  },
  {
   "cell_type": "code",
   "execution_count": 7,
   "metadata": {},
   "outputs": [
    {
     "data": {
      "text/plain": [
       "data/dataset2.csv MapPartitionsRDD[1] at textFile at NativeMethodAccessorImpl.java:0"
      ]
     },
     "execution_count": 7,
     "metadata": {},
     "output_type": "execute_result"
    }
   ],
   "source": [
    "# Caching the RDD. This process optimizes performance.\n",
    "data_soccer_team.cache()"
   ]
  },
  {
   "cell_type": "code",
   "execution_count": 8,
   "metadata": {},
   "outputs": [
    {
     "data": {
      "text/plain": [
       "151"
      ]
     },
     "execution_count": 8,
     "metadata": {},
     "output_type": "execute_result"
    }
   ],
   "source": [
    "data_soccer_team.count()"
   ]
  },
  {
   "cell_type": "code",
   "execution_count": 9,
   "metadata": {},
   "outputs": [
    {
     "data": {
      "text/plain": [
       "['average_faults_suffered,average_faults_received,average_cards_received,average_kicks_a_goal,result',\n",
       " '4.8,3,1.4,0.3,victory',\n",
       " '5.1,3.8,1.6,0.2,victory',\n",
       " '4.6,3.2,1.4,0.2,victory',\n",
       " '5.3,3.7,1.5,0.2,victory']"
      ]
     },
     "execution_count": 9,
     "metadata": {},
     "output_type": "execute_result"
    }
   ],
   "source": [
    "data_soccer_team.take(5)"
   ]
  },
  {
   "cell_type": "code",
   "execution_count": 10,
   "metadata": {},
   "outputs": [
    {
     "data": {
      "text/plain": [
       "150"
      ]
     },
     "execution_count": 10,
     "metadata": {},
     "output_type": "execute_result"
    }
   ],
   "source": [
    "# Removendo a primeira linha do arquivo (cabeçalho)\n",
    "data_soccer_team_2 = data_soccer_team.filter(lambda x: \"average_faults_received\" not in x)\n",
    "data_soccer_team_2.count()"
   ]
  },
  {
   "cell_type": "markdown",
   "metadata": {},
   "source": [
    "## Data Cleaning and Transformation"
   ]
  },
  {
   "cell_type": "code",
   "execution_count": 11,
   "metadata": {},
   "outputs": [],
   "source": [
    "# Spliting the columns\n",
    "data_soccer_team_3 = data_soccer_team_2.map(lambda l: l.split(\",\"))"
   ]
  },
  {
   "cell_type": "code",
   "execution_count": 12,
   "metadata": {},
   "outputs": [],
   "source": [
    "# Mapping the columns\n",
    "data_soccer_team_4 = data_soccer_team_3.map(lambda p: Row(average_faults_suffered = float(p[0]), \n",
    "                                                              average_faults_received = float(p[1]), \n",
    "                                                              average_cards_received = float(p[2]), \n",
    "                                                              average_kicks_a_goal = float(p[3]), \n",
    "                                                              result = p[4] ))"
   ]
  },
  {
   "cell_type": "code",
   "execution_count": 13,
   "metadata": {
    "scrolled": false
   },
   "outputs": [
    {
     "data": {
      "text/plain": [
       "DataFrame[average_faults_suffered: double, average_faults_received: double, average_cards_received: double, average_kicks_a_goal: double, result: string]"
      ]
     },
     "execution_count": 13,
     "metadata": {},
     "output_type": "execute_result"
    }
   ],
   "source": [
    "# Converte o RDD para DataFrame do Spark\n",
    "df_team = spSession.createDataFrame(data_soccer_team_4)\n",
    "df_team.cache()"
   ]
  },
  {
   "cell_type": "code",
   "execution_count": 14,
   "metadata": {},
   "outputs": [
    {
     "data": {
      "text/plain": [
       "[Row(average_faults_suffered=4.8, average_faults_received=3.0, average_cards_received=1.4, average_kicks_a_goal=0.3, result='victory'),\n",
       " Row(average_faults_suffered=5.1, average_faults_received=3.8, average_cards_received=1.6, average_kicks_a_goal=0.2, result='victory'),\n",
       " Row(average_faults_suffered=4.6, average_faults_received=3.2, average_cards_received=1.4, average_kicks_a_goal=0.2, result='victory'),\n",
       " Row(average_faults_suffered=5.3, average_faults_received=3.7, average_cards_received=1.5, average_kicks_a_goal=0.2, result='victory'),\n",
       " Row(average_faults_suffered=5.1, average_faults_received=3.5, average_cards_received=1.4, average_kicks_a_goal=0.2, result='victory')]"
      ]
     },
     "execution_count": 14,
     "metadata": {},
     "output_type": "execute_result"
    }
   ],
   "source": [
    "df_team.take(5)"
   ]
  },
  {
   "cell_type": "code",
   "execution_count": 15,
   "metadata": {},
   "outputs": [],
   "source": [
    "# Creating a numeric index for the target label column\n",
    "stringIndexer = StringIndexer(inputCol = \"result\", outputCol = \"idx_result\")"
   ]
  },
  {
   "cell_type": "code",
   "execution_count": 16,
   "metadata": {},
   "outputs": [],
   "source": [
    "# Training the string indexer\n",
    "si_model = stringIndexer.fit(df_team)"
   ]
  },
  {
   "cell_type": "code",
   "execution_count": 17,
   "metadata": {},
   "outputs": [],
   "source": [
    "# Applying the string indexer\n",
    "df_team_final = si_model.transform(df_team)"
   ]
  },
  {
   "cell_type": "code",
   "execution_count": 18,
   "metadata": {},
   "outputs": [
    {
     "data": {
      "text/plain": [
       "[Row(result='victory', idx_result=2.0),\n",
       " Row(result='defeat', idx_result=0.0),\n",
       " Row(result='draw', idx_result=1.0)]"
      ]
     },
     "execution_count": 18,
     "metadata": {},
     "output_type": "execute_result"
    }
   ],
   "source": [
    "df_team_final.select(\"result\", \"idx_result\").distinct().collect()"
   ]
  },
  {
   "cell_type": "markdown",
   "metadata": {},
   "source": [
    "## Exploratory Data Analysis"
   ]
  },
  {
   "cell_type": "code",
   "execution_count": 19,
   "metadata": {},
   "outputs": [
    {
     "name": "stdout",
     "output_type": "stream",
     "text": [
      "+-------+-----------------------+-----------------------+----------------------+--------------------+-------+------------------+\n",
      "|summary|average_faults_suffered|average_faults_received|average_cards_received|average_kicks_a_goal| result|        idx_result|\n",
      "+-------+-----------------------+-----------------------+----------------------+--------------------+-------+------------------+\n",
      "|  count|                    150|                    150|                   150|                 150|    150|               150|\n",
      "|   mean|      5.843333333333332|     3.0573333333333337|    3.7580000000000005|  1.1993333333333336|   null|               1.0|\n",
      "| stddev|     0.8280661279778632|    0.43586628493669793|     1.765298233259467|  0.7622376689603465|   null|0.8192319205190404|\n",
      "|    min|                    4.3|                    2.0|                   1.0|                 0.1| defeat|               0.0|\n",
      "|    max|                    7.9|                    4.4|                   6.9|                 2.5|victory|               2.0|\n",
      "+-------+-----------------------+-----------------------+----------------------+--------------------+-------+------------------+\n",
      "\n"
     ]
    }
   ],
   "source": [
    "# Descriptive statistics\n",
    "df_team_final.describe().show()"
   ]
  },
  {
   "cell_type": "code",
   "execution_count": 20,
   "metadata": {},
   "outputs": [
    {
     "name": "stdout",
     "output_type": "stream",
     "text": [
      "Correlation of the variable idx_result with: average_faults_suffered -0.4600391565002375\n",
      "Correlation of the variable idx_result with: average_faults_received 0.6183715308237435\n",
      "Correlation of the variable idx_result with: average_cards_received -0.6492418307641739\n",
      "Correlation of the variable idx_result with: average_kicks_a_goal -0.5803770334306263\n",
      "Correlation of the variable idx_result with: idx_result 1.0\n"
     ]
    }
   ],
   "source": [
    "# Correlação entre as variáveis\n",
    "for i in df_team_final.columns:\n",
    "    if not(isinstance(df_team_final.select(i).take(1)[0][0], str)) :\n",
    "        print(\"Correlation of the variable idx_result with:\", i, df_team_final.stat.corr('idx_result', i)) "
   ]
  },
  {
   "cell_type": "markdown",
   "metadata": {},
   "source": [
    "## Data Pre-Processing"
   ]
  },
  {
   "cell_type": "code",
   "execution_count": 21,
   "metadata": {},
   "outputs": [],
   "source": [
    "# Creating a LabeledPoint (target, Vector[features])\n",
    "# Remove columns not relevant to the model or with low correlation\n",
    "def transformVar(row) :\n",
    "    obj = (row[\"result\"], row[\"idx_result\"], Vectors.dense([row[\"average_faults_suffered\"], \n",
    "                                                                  row[\"average_faults_suffered\"],\n",
    "                                                                  row[\"average_faults_suffered\"], \n",
    "                                                                  row[\"average_kicks_a_goal\"]]))\n",
    "    return obj"
   ]
  },
  {
   "cell_type": "code",
   "execution_count": 22,
   "metadata": {},
   "outputs": [],
   "source": [
    "# Apply the function\n",
    "df_team_final_RDD = df_team_final.rdd.map(transformVar)"
   ]
  },
  {
   "cell_type": "code",
   "execution_count": 23,
   "metadata": {},
   "outputs": [
    {
     "data": {
      "text/plain": [
       "[('victory', 2.0, DenseVector([4.8, 4.8, 4.8, 0.3])),\n",
       " ('victory', 2.0, DenseVector([5.1, 5.1, 5.1, 0.2])),\n",
       " ('victory', 2.0, DenseVector([4.6, 4.6, 4.6, 0.2])),\n",
       " ('victory', 2.0, DenseVector([5.3, 5.3, 5.3, 0.2])),\n",
       " ('victory', 2.0, DenseVector([5.1, 5.1, 5.1, 0.2]))]"
      ]
     },
     "execution_count": 23,
     "metadata": {},
     "output_type": "execute_result"
    }
   ],
   "source": [
    "df_team_final_RDD.take(5)"
   ]
  },
  {
   "cell_type": "code",
   "execution_count": 24,
   "metadata": {},
   "outputs": [],
   "source": [
    "# Convert RDD to DataFrame\n",
    "df_spark = spSession.createDataFrame(df_team_final_RDD, [\"result\", \"label\", \"features\"])"
   ]
  },
  {
   "cell_type": "code",
   "execution_count": 25,
   "metadata": {},
   "outputs": [
    {
     "data": {
      "text/plain": [
       "DataFrame[result: string, label: double, features: vector]"
      ]
     },
     "execution_count": 25,
     "metadata": {},
     "output_type": "execute_result"
    }
   ],
   "source": [
    "df_spark.cache()"
   ]
  },
  {
   "cell_type": "code",
   "execution_count": 26,
   "metadata": {},
   "outputs": [
    {
     "name": "stdout",
     "output_type": "stream",
     "text": [
      "+-------+-----+-----------------+\n",
      "| result|label|         features|\n",
      "+-------+-----+-----------------+\n",
      "|victory|  2.0|[4.8,4.8,4.8,0.3]|\n",
      "|victory|  2.0|[5.1,5.1,5.1,0.2]|\n",
      "|victory|  2.0|[4.6,4.6,4.6,0.2]|\n",
      "|victory|  2.0|[5.3,5.3,5.3,0.2]|\n",
      "|victory|  2.0|[5.1,5.1,5.1,0.2]|\n",
      "|victory|  2.0|[4.9,4.9,4.9,0.2]|\n",
      "|victory|  2.0|[4.7,4.7,4.7,0.2]|\n",
      "|victory|  2.0|[4.6,4.6,4.6,0.2]|\n",
      "|victory|  2.0|[5.0,5.0,5.0,0.2]|\n",
      "|victory|  2.0|[5.4,5.4,5.4,0.4]|\n",
      "+-------+-----+-----------------+\n",
      "only showing top 10 rows\n",
      "\n"
     ]
    }
   ],
   "source": [
    "df_spark.select(\"result\", \"label\", \"features\").show(10)"
   ]
  },
  {
   "cell_type": "code",
   "execution_count": 27,
   "metadata": {},
   "outputs": [],
   "source": [
    "# Training and Test Data\n",
    "(training_data, test_data) = df_spark.randomSplit([0.7, 0.3])"
   ]
  },
  {
   "cell_type": "code",
   "execution_count": 28,
   "metadata": {},
   "outputs": [
    {
     "data": {
      "text/plain": [
       "95"
      ]
     },
     "execution_count": 28,
     "metadata": {},
     "output_type": "execute_result"
    }
   ],
   "source": [
    "training_data.count()"
   ]
  },
  {
   "cell_type": "code",
   "execution_count": 29,
   "metadata": {},
   "outputs": [
    {
     "data": {
      "text/plain": [
       "55"
      ]
     },
     "execution_count": 29,
     "metadata": {},
     "output_type": "execute_result"
    }
   ],
   "source": [
    "test_data.count()"
   ]
  },
  {
   "cell_type": "markdown",
   "metadata": {},
   "source": [
    "## Machine Learning"
   ]
  },
  {
   "cell_type": "code",
   "execution_count": 30,
   "metadata": {},
   "outputs": [],
   "source": [
    "# Create the object\n",
    "dtClassifer = DecisionTreeClassifier(maxDepth = 2, labelCol = \"label\", featuresCol = \"features\")"
   ]
  },
  {
   "cell_type": "code",
   "execution_count": 31,
   "metadata": {},
   "outputs": [],
   "source": [
    "# Train the object with data to create the model\n",
    "model = dtClassifer.fit(training_data)"
   ]
  },
  {
   "cell_type": "code",
   "execution_count": 32,
   "metadata": {},
   "outputs": [
    {
     "data": {
      "text/plain": [
       "5"
      ]
     },
     "execution_count": 32,
     "metadata": {},
     "output_type": "execute_result"
    }
   ],
   "source": [
    "# Hyperparameter set by default\n",
    "model.numNodes"
   ]
  },
  {
   "cell_type": "code",
   "execution_count": 33,
   "metadata": {},
   "outputs": [
    {
     "data": {
      "text/plain": [
       "2"
      ]
     },
     "execution_count": 33,
     "metadata": {},
     "output_type": "execute_result"
    }
   ],
   "source": [
    "# Hyperparameter defined by us\n",
    "model.depth"
   ]
  },
  {
   "cell_type": "code",
   "execution_count": 34,
   "metadata": {},
   "outputs": [],
   "source": [
    "# Predictions with test data\n",
    "forecasts = model.transform(test_data)"
   ]
  },
  {
   "cell_type": "code",
   "execution_count": 35,
   "metadata": {},
   "outputs": [
    {
     "data": {
      "text/plain": [
       "DataFrame[result: string, label: double, features: vector, rawPrediction: vector, probability: vector, prediction: double]"
      ]
     },
     "execution_count": 35,
     "metadata": {},
     "output_type": "execute_result"
    }
   ],
   "source": [
    "forecasts"
   ]
  },
  {
   "cell_type": "code",
   "execution_count": 36,
   "metadata": {
    "scrolled": true
   },
   "outputs": [
    {
     "data": {
      "text/plain": [
       "[Row(result='defeat', label=0.0, prediction=0.0, probability=DenseVector([0.9118, 0.0882, 0.0])),\n",
       " Row(result='defeat', label=0.0, prediction=0.0, probability=DenseVector([0.9118, 0.0882, 0.0])),\n",
       " Row(result='defeat', label=0.0, prediction=0.0, probability=DenseVector([0.9118, 0.0882, 0.0])),\n",
       " Row(result='defeat', label=0.0, prediction=0.0, probability=DenseVector([0.9118, 0.0882, 0.0])),\n",
       " Row(result='defeat', label=0.0, prediction=0.0, probability=DenseVector([0.9118, 0.0882, 0.0])),\n",
       " Row(result='defeat', label=0.0, prediction=0.0, probability=DenseVector([0.9118, 0.0882, 0.0])),\n",
       " Row(result='defeat', label=0.0, prediction=0.0, probability=DenseVector([0.9118, 0.0882, 0.0])),\n",
       " Row(result='victory', label=2.0, prediction=2.0, probability=DenseVector([0.0, 0.0, 1.0])),\n",
       " Row(result='victory', label=2.0, prediction=2.0, probability=DenseVector([0.0, 0.0, 1.0])),\n",
       " Row(result='victory', label=2.0, prediction=2.0, probability=DenseVector([0.0, 0.0, 1.0])),\n",
       " Row(result='victory', label=2.0, prediction=2.0, probability=DenseVector([0.0, 0.0, 1.0])),\n",
       " Row(result='victory', label=2.0, prediction=2.0, probability=DenseVector([0.0, 0.0, 1.0])),\n",
       " Row(result='victory', label=2.0, prediction=2.0, probability=DenseVector([0.0, 0.0, 1.0])),\n",
       " Row(result='victory', label=2.0, prediction=2.0, probability=DenseVector([0.0, 0.0, 1.0])),\n",
       " Row(result='victory', label=2.0, prediction=2.0, probability=DenseVector([0.0, 0.0, 1.0])),\n",
       " Row(result='victory', label=2.0, prediction=2.0, probability=DenseVector([0.0, 0.0, 1.0])),\n",
       " Row(result='victory', label=2.0, prediction=2.0, probability=DenseVector([0.0, 0.0, 1.0])),\n",
       " Row(result='victory', label=2.0, prediction=2.0, probability=DenseVector([0.0, 0.0, 1.0])),\n",
       " Row(result='victory', label=2.0, prediction=2.0, probability=DenseVector([0.0, 0.0, 1.0])),\n",
       " Row(result='victory', label=2.0, prediction=2.0, probability=DenseVector([0.0, 0.0, 1.0])),\n",
       " Row(result='victory', label=2.0, prediction=2.0, probability=DenseVector([0.0, 0.0, 1.0])),\n",
       " Row(result='victory', label=2.0, prediction=2.0, probability=DenseVector([0.0, 0.0, 1.0])),\n",
       " Row(result='victory', label=2.0, prediction=2.0, probability=DenseVector([0.0, 0.0, 1.0])),\n",
       " Row(result='victory', label=2.0, prediction=2.0, probability=DenseVector([0.0, 0.0, 1.0])),\n",
       " Row(result='victory', label=2.0, prediction=2.0, probability=DenseVector([0.0, 0.0, 1.0])),\n",
       " Row(result='victory', label=2.0, prediction=2.0, probability=DenseVector([0.0, 0.0, 1.0])),\n",
       " Row(result='defeat', label=0.0, prediction=0.0, probability=DenseVector([0.9118, 0.0882, 0.0])),\n",
       " Row(result='defeat', label=0.0, prediction=0.0, probability=DenseVector([0.9118, 0.0882, 0.0])),\n",
       " Row(result='defeat', label=0.0, prediction=0.0, probability=DenseVector([0.9118, 0.0882, 0.0])),\n",
       " Row(result='defeat', label=0.0, prediction=0.0, probability=DenseVector([0.9118, 0.0882, 0.0])),\n",
       " Row(result='defeat', label=0.0, prediction=0.0, probability=DenseVector([0.9118, 0.0882, 0.0])),\n",
       " Row(result='defeat', label=0.0, prediction=0.0, probability=DenseVector([0.9118, 0.0882, 0.0])),\n",
       " Row(result='defeat', label=0.0, prediction=0.0, probability=DenseVector([0.9118, 0.0882, 0.0])),\n",
       " Row(result='defeat', label=0.0, prediction=0.0, probability=DenseVector([0.9118, 0.0882, 0.0])),\n",
       " Row(result='defeat', label=0.0, prediction=0.0, probability=DenseVector([0.9118, 0.0882, 0.0])),\n",
       " Row(result='defeat', label=0.0, prediction=0.0, probability=DenseVector([0.9118, 0.0882, 0.0])),\n",
       " Row(result='defeat', label=0.0, prediction=0.0, probability=DenseVector([0.9118, 0.0882, 0.0])),\n",
       " Row(result='draw', label=1.0, prediction=1.0, probability=DenseVector([0.0333, 0.9667, 0.0])),\n",
       " Row(result='draw', label=1.0, prediction=1.0, probability=DenseVector([0.0333, 0.9667, 0.0])),\n",
       " Row(result='draw', label=1.0, prediction=1.0, probability=DenseVector([0.0333, 0.9667, 0.0])),\n",
       " Row(result='draw', label=1.0, prediction=0.0, probability=DenseVector([0.9118, 0.0882, 0.0])),\n",
       " Row(result='draw', label=1.0, prediction=1.0, probability=DenseVector([0.0333, 0.9667, 0.0])),\n",
       " Row(result='draw', label=1.0, prediction=1.0, probability=DenseVector([0.0333, 0.9667, 0.0])),\n",
       " Row(result='draw', label=1.0, prediction=1.0, probability=DenseVector([0.0333, 0.9667, 0.0])),\n",
       " Row(result='draw', label=1.0, prediction=1.0, probability=DenseVector([0.0333, 0.9667, 0.0])),\n",
       " Row(result='draw', label=1.0, prediction=1.0, probability=DenseVector([0.0333, 0.9667, 0.0])),\n",
       " Row(result='draw', label=1.0, prediction=1.0, probability=DenseVector([0.0333, 0.9667, 0.0])),\n",
       " Row(result='draw', label=1.0, prediction=1.0, probability=DenseVector([0.0333, 0.9667, 0.0])),\n",
       " Row(result='draw', label=1.0, prediction=1.0, probability=DenseVector([0.0333, 0.9667, 0.0])),\n",
       " Row(result='draw', label=1.0, prediction=0.0, probability=DenseVector([0.9118, 0.0882, 0.0])),\n",
       " Row(result='draw', label=1.0, prediction=1.0, probability=DenseVector([0.0333, 0.9667, 0.0])),\n",
       " Row(result='draw', label=1.0, prediction=1.0, probability=DenseVector([0.0333, 0.9667, 0.0])),\n",
       " Row(result='draw', label=1.0, prediction=1.0, probability=DenseVector([0.0333, 0.9667, 0.0])),\n",
       " Row(result='draw', label=1.0, prediction=1.0, probability=DenseVector([0.0333, 0.9667, 0.0])),\n",
       " Row(result='draw', label=1.0, prediction=1.0, probability=DenseVector([0.0333, 0.9667, 0.0]))]"
      ]
     },
     "execution_count": 36,
     "metadata": {},
     "output_type": "execute_result"
    }
   ],
   "source": [
    "forecasts.select(\"result\", \"label\", \"prediction\", \"probability\").collect()"
   ]
  },
  {
   "cell_type": "code",
   "execution_count": 37,
   "metadata": {},
   "outputs": [],
   "source": [
    "# Evaluating the accuracy\n",
    "evaluator = MulticlassClassificationEvaluator(predictionCol = \"prediction\", \n",
    "                                              labelCol = \"label\", \n",
    "                                              metricName = \"accuracy\")"
   ]
  },
  {
   "cell_type": "code",
   "execution_count": 38,
   "metadata": {},
   "outputs": [
    {
     "data": {
      "text/plain": [
       "0.9636363636363636"
      ]
     },
     "execution_count": 38,
     "metadata": {},
     "output_type": "execute_result"
    }
   ],
   "source": [
    "evaluator.evaluate(forecasts)      "
   ]
  },
  {
   "cell_type": "code",
   "execution_count": 39,
   "metadata": {},
   "outputs": [
    {
     "name": "stdout",
     "output_type": "stream",
     "text": [
      "+-----+----------+-----+\n",
      "|label|prediction|count|\n",
      "+-----+----------+-----+\n",
      "|  2.0|       2.0|   19|\n",
      "|  0.0|       0.0|   18|\n",
      "|  1.0|       1.0|   16|\n",
      "|  1.0|       0.0|    2|\n",
      "+-----+----------+-----+\n",
      "\n"
     ]
    }
   ],
   "source": [
    "# Summarizing predictions - Confusion Matrix\n",
    "forecasts.groupBy(\"label\", \"prediction\").count().show()"
   ]
  },
  {
   "cell_type": "markdown",
   "metadata": {},
   "source": [
    "## Disclaimer: \n",
    "A good part of this project was largely done in the Data Science Academy, Big Data Real-Time Analytics with Python and Spark course (part of the Data Scientist training)"
   ]
  },
  {
   "cell_type": "markdown",
   "metadata": {},
   "source": [
    "# End"
   ]
  }
 ],
 "metadata": {
  "anaconda-cloud": {},
  "kernelspec": {
   "display_name": "Python 3 (ipykernel)",
   "language": "python",
   "name": "python3"
  },
  "language_info": {
   "codemirror_mode": {
    "name": "ipython",
    "version": 3
   },
   "file_extension": ".py",
   "mimetype": "text/x-python",
   "name": "python",
   "nbconvert_exporter": "python",
   "pygments_lexer": "ipython3",
   "version": "3.9.13"
  }
 },
 "nbformat": 4,
 "nbformat_minor": 1
}
